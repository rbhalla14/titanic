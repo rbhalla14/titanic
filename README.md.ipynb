{
 "cells": [
  {
   "cell_type": "markdown",
   "id": "0465f1d7",
   "metadata": {},
   "source": [
    "passengerid: 탑승객 아이디\n",
    "survived: 1이면 생존, 0이면 사망\n",
    "pclass: n등실\n",
    "name: 이름\n",
    "sex: 성별\n",
    "age: 나이\n",
    "sibsp: 같이 탄 형제자매/배우자 수\n",
    "parch: 같이 탄 부모/자녀 수\n",
    "ticket: 티켓번호\n",
    "fare: 요금\n",
    "cabin: 캐비닛 넘버\n",
    "embarked: 탑승지(C: Cherbourg, Q: Queenstown, S: Southampton)"
   ]
  }
 ],
 "metadata": {
  "kernelspec": {
   "display_name": "Python 3 (ipykernel)",
   "language": "python",
   "name": "python3"
  },
  "language_info": {
   "codemirror_mode": {
    "name": "ipython",
    "version": 3
   },
   "file_extension": ".py",
   "mimetype": "text/x-python",
   "name": "python",
   "nbconvert_exporter": "python",
   "pygments_lexer": "ipython3",
   "version": "3.11.5"
  }
 },
 "nbformat": 4,
 "nbformat_minor": 5
}
